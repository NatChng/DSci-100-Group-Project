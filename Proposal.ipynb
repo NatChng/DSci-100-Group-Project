{
 "cells": [
  {
   "cell_type": "markdown",
   "metadata": {},
   "source": [
    "# Group 9 Project Proposal - An Analysis of University Exam Performance Factors"
   ]
  },
  {
   "cell_type": "markdown",
   "metadata": {},
   "source": [
    "### Introduction:\n",
    "\n",
    "Many factors can be attributed to high university exam performance: study time, knowledge level, and performance in related examinations. Alone, individual factors cannot determine a student's exam performance with a high level of certainty (see <i>Preliminary Data analysis</i>), however, their strength when used together in a predictive model has yet to be demonstrated.\n",
    "\n",
    "This begs the following question: <b>Can regression using study time, knowledge level, and performance in related examinations, be used to successfully predict the exam performance of students and if so, which predictors are the most accurate?</b>\n",
    "\n",
    "This project seeks to answer this question by analyzing and constructing a regression based on the dataset, <i>User Knowledge Modeling Data Set</i> (Kahraman et al., 2013), which recorded exam performance of students in the subject of Electrical DC Machines."
   ]
  },
  {
   "cell_type": "markdown",
   "metadata": {},
   "source": [
    "### Preliminary Data Analysis:\n",
    "\n",
    "We previously downloaded the data to a \"data\" folder. It was cleaned to only include the columns used in the model. Scatterplots of each factor vs. exam performance were generated. \n",
    "\n",
    "It is clear that individual factors cannot accurately assess a student's exam performance due to the lack of observable relationship between each factor and exam performance."
   ]
  },
  {
   "cell_type": "code",
   "execution_count": 1,
   "metadata": {},
   "outputs": [
    {
     "ename": "NameError",
     "evalue": "name 'library' is not defined",
     "output_type": "error",
     "traceback": [
      "\u001b[1;31m---------------------------------------------------------------------------\u001b[0m",
      "\u001b[1;31mNameError\u001b[0m                                 Traceback (most recent call last)",
      "Input \u001b[1;32mIn [1]\u001b[0m, in \u001b[0;36m<cell line: 2>\u001b[1;34m()\u001b[0m\n\u001b[0;32m      1\u001b[0m \u001b[38;5;66;03m# run this:\u001b[39;00m\n\u001b[1;32m----> 2\u001b[0m \u001b[43mlibrary\u001b[49m(tidyverse)\n\u001b[0;32m      3\u001b[0m library(\u001b[38;5;28mrepr\u001b[39m)\n\u001b[0;32m      4\u001b[0m library(tidymodels)\n",
      "\u001b[1;31mNameError\u001b[0m: name 'library' is not defined"
     ]
    }
   ],
   "source": [
    "# run this:\n",
    "library(tidyverse)\n",
    "library(repr)\n",
    "library(tidymodels)\n",
    "library(rvest)\n",
    "library(readxl)\n",
    "library(RColorBrewer)"
   ]
  },
  {
   "cell_type": "code",
   "execution_count": null,
   "metadata": {},
   "outputs": [],
   "source": [
    "# viewing options, can change according to reader preferences\n",
    "options(repr.matrix.max.rows = 6)\n",
    "options(repr.plot.width = 11, repr.plot.height = 9)"
   ]
  },
  {
   "cell_type": "code",
   "execution_count": null,
   "metadata": {},
   "outputs": [],
   "source": [
    "training_data <- read_excel(\"data/User_knowledge.xls\", sheet = 2) %>%\n",
    "            select(STG, LPR, PEG, UNS) %>%\n",
    "            rename(study_time_goal = STG,\n",
    "                  exam_performance_related = LPR,\n",
    "                  exam_performance_goal = PEG,\n",
    "                  knowledge_level = UNS) %>%\n",
    "            mutate(knowledge_level = as_factor(knowledge_level)) \n",
    "training_data"
   ]
  },
  {
   "cell_type": "code",
   "execution_count": null,
   "metadata": {},
   "outputs": [],
   "source": [
    "study_data <- training_data %>%\n",
    "        group_by(knowledge_level) %>%\n",
    "        summarize(avg_exam_perf_goal = mean(exam_performance_goal),\n",
    "                  avg_exam_perf_rel = mean(exam_performance_related),\n",
    "                 avg_study_time = mean(study_time_goal),\n",
    "                 number_of_observations = n()) %>%\n",
    "        arrange(desc(avg_exam_perf_goal))\n",
    "study_data"
   ]
  },
  {
   "cell_type": "code",
   "execution_count": null,
   "metadata": {},
   "outputs": [],
   "source": [
    "exam_plot_study <- training_data %>%\n",
    "            ggplot(aes(x = study_time_goal, y = exam_performance_goal)) +\n",
    "            geom_point(aes(color = knowledge_level)) +\n",
    "            labs(x = \"Study Time\", y = \"Exam Performance\", color = (\"Knowledge Level\")) +\n",
    "            ggtitle(\"Exam Performance vs. Study Time\") +\n",
    "            theme(text = element_text(size = 16.5)) +\n",
    "            theme(plot.title = element_text(hjust = 0.5))\n",
    "exam_plot_study\n"
   ]
  },
  {
   "cell_type": "code",
   "execution_count": null,
   "metadata": {},
   "outputs": [],
   "source": [
    "exam_plot_related <- training_data %>%\n",
    "            ggplot(aes(x = exam_performance_related, y = exam_performance_goal)) +\n",
    "            geom_point(aes(color = knowledge_level)) +\n",
    "            labs(x = \"Exam Performance (related)\", y = \"Exam Performance (target)\", color = (\"Knowledge Level\")) +\n",
    "            ggtitle(\"Exam Performance on Target Exams vs. Exam Perfomance on Related Exams\") +\n",
    "            theme(text = element_text(size = 16.5)) +\n",
    "            theme(plot.title = element_text(hjust = 0.5))\n",
    "exam_plot_related\n"
   ]
  },
  {
   "cell_type": "markdown",
   "metadata": {},
   "source": [
    "### Methods:\n",
    "\n",
    "We hope to develop multiple <b> KNN regression models</b> using study time + knowledge level and related exam performance + knowlege level as predictors of target exam performance. KNN regression was chosen to allow for a quantitative prediction of the response variable.\n",
    "\n",
    "These predictors were selected to factor in a student's baseline knowledge (related exam performance and knowledge level) and studying to improve knowledge (study time). The downloaded dataset was already split into training and testing sets, which assists in constructing our model.\n",
    "\n",
    "Using the training set and identified factors, we will construct our KNN regression model. In particular, we will set neighbors to tune() and set_mode(...) to \"regression\" in the specification. We will then perform a 5-fold cross-validation and find the RMSPE of each K-value. We can then <b>determine the K-value that provides the lowest RMSPE using a line graph of RMSPE vs. K</b>.\n",
    "\n",
    "<b>See sample code:</b>"
   ]
  },
  {
   "cell_type": "code",
   "execution_count": null,
   "metadata": {},
   "outputs": [],
   "source": [
    "# ..._recipe <- recipe(exam_performance_goal ~ exam_performance_related + knowledge_level + study_time_goal, data = training_data)\n",
    "\n",
    "# ..._spec <- nearest_neighbor(weight_func = \"rectangular\", neighbors = tune()) |>\n",
    "#     set_engine(\"kknn\") |>\n",
    "#     set_mode(\"regression\")\n",
    "\n",
    "# ..._vfold <- vfold_cv(training_data, v = 5, strata = exam_performance_goal)\n",
    "\n",
    "# ..._wkflw <- workflow() |>\n",
    "#   add_recipe(..._recipe) |>\n",
    "#   add_model(..._spec)\n",
    "\n",
    "# ..._results <- ..._wkflw |>\n",
    "#     tune_grid(resamples = ..._vfold, grid = gridvals) |>\n",
    "#     collect_metrics() |>\n",
    "#     filter(.metric == \"rmse\")\n",
    "\n",
    "# ..._min <- ..._results |>\n",
    "#     filter(mean == min(mean))"
   ]
  },
  {
   "cell_type": "markdown",
   "metadata": {},
   "source": [
    "After displaying both models, we can determine the more accurate model by comparing RMSPE values and selecting the model with the lower RMSPE."
   ]
  },
  {
   "cell_type": "markdown",
   "metadata": {},
   "source": [
    "### Expected Outcomes & Significance:\n",
    "\n",
    "##### <i> What Do You Expect to Find? </i>\n",
    "\n",
    "We suspect that exam performance can be determined by considering study time, scores on related exams, and knowledge level.\n",
    "\n",
    "Based on the scatterplot, all 3 factors do not appear to have a direct relationship with exam performance, as such, multiple confounding variables may be at play. High levels in the other factors may compensate for a deficiency in a given factor. To test this, all variables will be used as predictors of the regression. We believe that the model derived from Related Exam Performance + Knowledge Level will be more accurate as the scatterplot of Related Exam Performance vs. Target Exam Performance appeared to have a stronger relationship than the plot of Study Time vs. Target Exam Performance.\n",
    "\n",
    "##### <i> What Impact Could Such Findings Have? </i>\n",
    "\n",
    "Students and teachers can use the model as an assessment tool. Students will be able to self-analyze their work, resulting in improved learning and academic performance. Teachers can use this tool to identify struggling students and ensure they are supported.\n",
    "\n",
    "##### <i> What Future Questions Could This Lead To? </i>\n",
    "\n",
    "Scatterplot 2 shows a slight negative relationship between related exam performance and goal exam performance within each knowledge level. Future research could examine methods to improve study skills, focusing on time allocation between goal material and related material. Refining these skills may help students utilize their study time more efficiently."
   ]
  },
  {
   "cell_type": "code",
   "execution_count": null,
   "metadata": {},
   "outputs": [],
   "source": []
  }
 ],
 "metadata": {
  "kernelspec": {
   "display_name": "Python 3 (ipykernel)",
   "language": "python",
   "name": "python3"
  },
  "language_info": {
   "codemirror_mode": {
    "name": "ipython",
    "version": 3
   },
   "file_extension": ".py",
   "mimetype": "text/x-python",
   "name": "python",
   "nbconvert_exporter": "python",
   "pygments_lexer": "ipython3",
   "version": "3.9.12"
  }
 },
 "nbformat": 4,
 "nbformat_minor": 4
}
